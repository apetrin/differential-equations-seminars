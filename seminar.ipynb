{
 "cells": [
  {
   "cell_type": "markdown",
   "metadata": {},
   "source": [
    "#Семинары по дифференциальным уравнениям\n",
    "##Линейные системы однородных дифференциальных уравнений\n",
    "*Автор*: Андрей Петрин "
   ]
  },
  {
   "cell_type": "markdown",
   "metadata": {},
   "source": [
    "###Задачи"
   ]
  },
  {
   "cell_type": "markdown",
   "metadata": {},
   "source": [
    "Во всех задачах дана матрица $A$, необходимо построить фазовый портрет системы дифференциальных уравнений$$\\dot X = A \\cdot X, ~~ x \\in \\mathbb R^2$$\n",
    "найти уравнение фазовых кривых (в явном, неявном, или матричном виде), подумать (*пока нестрого*) об устойчивости этой системы"
   ]
  },
  {
   "cell_type": "code",
   "execution_count": 94,
   "metadata": {
    "collapsed": false
   },
   "outputs": [
    {
     "data": {
      "text/latex": [
       "$$\\left[\\begin{matrix}-2.0 & 0\\\\0 & -2.0\\end{matrix}\\right]$$"
      ],
      "text/plain": [
       "⎡-2.0   0  ⎤\n",
       "⎢          ⎥\n",
       "⎣ 0    -2.0⎦"
      ]
     },
     "execution_count": 94,
     "metadata": {},
     "output_type": "execute_result"
    }
   ],
   "source": [
    "z0[0] #Задача 1"
   ]
  },
  {
   "cell_type": "code",
   "execution_count": 95,
   "metadata": {
    "collapsed": false
   },
   "outputs": [
    {
     "data": {
      "text/latex": [
       "$$\\left[\\begin{matrix}5.0 & 0\\\\0 & 7.0\\end{matrix}\\right]$$"
      ],
      "text/plain": [
       "⎡5.0   0 ⎤\n",
       "⎢        ⎥\n",
       "⎣ 0   7.0⎦"
      ]
     },
     "execution_count": 95,
     "metadata": {},
     "output_type": "execute_result"
    }
   ],
   "source": [
    "z1[0] #Задача 2"
   ]
  },
  {
   "cell_type": "code",
   "execution_count": 96,
   "metadata": {
    "collapsed": false
   },
   "outputs": [
    {
     "data": {
      "text/latex": [
       "$$\\left[\\begin{matrix}-1.0 & 0\\\\0 & 4.0\\end{matrix}\\right]$$"
      ],
      "text/plain": [
       "⎡-1.0   0 ⎤\n",
       "⎢         ⎥\n",
       "⎣ 0    4.0⎦"
      ]
     },
     "execution_count": 96,
     "metadata": {},
     "output_type": "execute_result"
    }
   ],
   "source": [
    "z2[0] #Задача 3"
   ]
  },
  {
   "cell_type": "code",
   "execution_count": 97,
   "metadata": {
    "collapsed": false
   },
   "outputs": [
    {
     "data": {
      "text/latex": [
       "$$\\left[\\begin{matrix}-3.0 & 0\\\\0 & 1.5\\end{matrix}\\right]$$"
      ],
      "text/plain": [
       "⎡-3.0   0 ⎤\n",
       "⎢         ⎥\n",
       "⎣ 0    1.5⎦"
      ]
     },
     "execution_count": 97,
     "metadata": {},
     "output_type": "execute_result"
    }
   ],
   "source": [
    "z3[0] #Задача 4"
   ]
  },
  {
   "cell_type": "code",
   "execution_count": 98,
   "metadata": {
    "collapsed": false
   },
   "outputs": [
    {
     "data": {
      "text/latex": [
       "$$\\left[\\begin{matrix}10.0 & 2.0\\\\-6.0 & 23.0\\end{matrix}\\right]$$"
      ],
      "text/plain": [
       "⎡10.0  2.0 ⎤\n",
       "⎢          ⎥\n",
       "⎣-6.0  23.0⎦"
      ]
     },
     "execution_count": 98,
     "metadata": {},
     "output_type": "execute_result"
    }
   ],
   "source": [
    "z4[0] #Задача 5"
   ]
  },
  {
   "cell_type": "code",
   "execution_count": 99,
   "metadata": {
    "collapsed": false
   },
   "outputs": [
    {
     "data": {
      "text/latex": [
       "$$\\left[\\begin{matrix}-7.0 & 20.0\\\\24.0 & 7.0\\end{matrix}\\right]$$"
      ],
      "text/plain": [
       "⎡-7.0  20.0⎤\n",
       "⎢          ⎥\n",
       "⎣24.0  7.0 ⎦"
      ]
     },
     "execution_count": 99,
     "metadata": {},
     "output_type": "execute_result"
    }
   ],
   "source": [
    "z5[0] #Задача 6"
   ]
  },
  {
   "cell_type": "code",
   "execution_count": 100,
   "metadata": {
    "collapsed": false
   },
   "outputs": [
    {
     "data": {
      "text/latex": [
       "$$\\left[\\begin{matrix}-11.0 & 18.0\\\\15.0 & 28.0\\end{matrix}\\right]$$"
      ],
      "text/plain": [
       "⎡-11.0  18.0⎤\n",
       "⎢           ⎥\n",
       "⎣15.0   28.0⎦"
      ]
     },
     "execution_count": 100,
     "metadata": {},
     "output_type": "execute_result"
    }
   ],
   "source": [
    "z6[0] #Задача 7"
   ]
  },
  {
   "cell_type": "code",
   "execution_count": 101,
   "metadata": {
    "collapsed": false
   },
   "outputs": [
    {
     "data": {
      "text/latex": [
       "$$\\left[\\begin{matrix}17.0 & -12.0\\\\30.0 & -21.0\\end{matrix}\\right]$$"
      ],
      "text/plain": [
       "⎡17.0  -12.0⎤\n",
       "⎢           ⎥\n",
       "⎣30.0  -21.0⎦"
      ]
     },
     "execution_count": 101,
     "metadata": {},
     "output_type": "execute_result"
    }
   ],
   "source": [
    "z7[0] #Задача 8"
   ]
  },
  {
   "cell_type": "code",
   "execution_count": 102,
   "metadata": {
    "collapsed": false
   },
   "outputs": [
    {
     "data": {
      "text/latex": [
       "$$\\left[\\begin{matrix}-3.0 & 1.0\\\\-6.0 & 2.0\\end{matrix}\\right]$$"
      ],
      "text/plain": [
       "⎡-3.0  1.0⎤\n",
       "⎢         ⎥\n",
       "⎣-6.0  2.0⎦"
      ]
     },
     "execution_count": 102,
     "metadata": {},
     "output_type": "execute_result"
    }
   ],
   "source": [
    "z8[0] #Задача 9"
   ]
  },
  {
   "cell_type": "code",
   "execution_count": 103,
   "metadata": {
    "collapsed": false
   },
   "outputs": [
    {
     "data": {
      "text/latex": [
       "$$\\left[\\begin{matrix}6.0 & -6.0\\\\-3.0 & 3.0\\end{matrix}\\right]$$"
      ],
      "text/plain": [
       "⎡6.0   -6.0⎤\n",
       "⎢          ⎥\n",
       "⎣-3.0  3.0 ⎦"
      ]
     },
     "execution_count": 103,
     "metadata": {},
     "output_type": "execute_result"
    }
   ],
   "source": [
    "z9[0] #Задача 10"
   ]
  },
  {
   "cell_type": "code",
   "execution_count": 104,
   "metadata": {
    "collapsed": false
   },
   "outputs": [
    {
     "name": "stdout",
     "output_type": "stream",
     "text": [
      "Задача со звездочкой!\n"
     ]
    },
    {
     "data": {
      "text/latex": [
       "$$\\left[\\begin{matrix}0 & 1\\\\-1 & 0\\end{matrix}\\right]$$"
      ],
      "text/plain": [
       "⎡0   1⎤\n",
       "⎢     ⎥\n",
       "⎣-1  0⎦"
      ]
     },
     "execution_count": 104,
     "metadata": {},
     "output_type": "execute_result"
    }
   ],
   "source": [
    "print \"Задача со звездочкой!\"\n",
    "z10[0] #Задача 11*"
   ]
  },
  {
   "cell_type": "code",
   "execution_count": 106,
   "metadata": {
    "collapsed": false
   },
   "outputs": [
    {
     "name": "stdout",
     "output_type": "stream",
     "text": [
      "Задача со звездочкой!\n"
     ]
    },
    {
     "data": {
      "text/latex": [
       "$$\\left[\\begin{matrix}1 & -1\\\\1 & 0\\end{matrix}\\right]$$"
      ],
      "text/plain": [
       "⎡1  -1⎤\n",
       "⎢     ⎥\n",
       "⎣1  0 ⎦"
      ]
     },
     "execution_count": 106,
     "metadata": {},
     "output_type": "execute_result"
    }
   ],
   "source": [
    "print \"Задача со звездочкой!\"\n",
    "z11[0] #Задача 12*"
   ]
  }
 ],
 "metadata": {
  "kernelspec": {
   "display_name": "Python 2",
   "language": "python",
   "name": "python2"
  },
  "language_info": {
   "codemirror_mode": {
    "name": "ipython",
    "version": 2
   },
   "file_extension": ".py",
   "mimetype": "text/x-python",
   "name": "python",
   "nbconvert_exporter": "python",
   "pygments_lexer": "ipython2",
   "version": "2.7.9"
  }
 },
 "nbformat": 4,
 "nbformat_minor": 0
}
